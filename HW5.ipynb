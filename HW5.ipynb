{
  "nbformat": 4,
  "nbformat_minor": 0,
  "metadata": {
    "colab": {
      "provenance": [],
      "collapsed_sections": [],
      "authorship_tag": "ABX9TyOjAfAXPGHGDjBY8j60xfEZ",
      "include_colab_link": true
    },
    "kernelspec": {
      "name": "python3",
      "display_name": "Python 3"
    },
    "language_info": {
      "name": "python"
    },
    "accelerator": "GPU"
  },
  "cells": [
    {
      "cell_type": "markdown",
      "metadata": {
        "id": "view-in-github",
        "colab_type": "text"
      },
      "source": [
        "<a href=\"https://colab.research.google.com/github/moonlight025/HW5_patternrecognize/blob/main/HW5.ipynb\" target=\"_parent\"><img src=\"https://colab.research.google.com/assets/colab-badge.svg\" alt=\"Open In Colab\"/></a>"
      ]
    },
    {
      "cell_type": "code",
      "execution_count": null,
      "metadata": {
        "colab": {
          "base_uri": "https://localhost:8080/"
        },
        "id": "Sn43etSuR6KT",
        "outputId": "df2a8e57-a829-4806-eaef-5b6bae8e7053"
      },
      "outputs": [
        {
          "output_type": "stream",
          "name": "stdout",
          "text": [
            "Downloading data from https://storage.googleapis.com/tensorflow/tf-keras-datasets/mnist.npz\n",
            "11493376/11490434 [==============================] - 0s 0us/step\n",
            "11501568/11490434 [==============================] - 0s 0us/step\n"
          ]
        }
      ],
      "source": [
        "from tensorflow.keras.datasets import mnist\n",
        "import numpy as np\n",
        "\n",
        "(train_images, train_labels), _ = mnist.load_data()\n",
        "train_images = train_images.reshape((60000, 28 * 28))\n",
        "train_images = train_images.astype(\"float32\") / 255\n",
        "\n",
        "train_images_with_noise_channels = np.concatenate(\n",
        "    [train_images, np.random.random((len(train_images), 784))], axis=1)\n",
        "\n",
        "train_images_with_zeros_channels = np.concatenate(\n",
        "    [train_images, np.zeros((len(train_images), 784))], axis=1)"
      ]
    },
    {
      "cell_type": "code",
      "source": [
        "from tensorflow import keras\n",
        "from tensorflow.keras import layers\n",
        "\n",
        "def get_model():\n",
        "    model = keras.Sequential([\n",
        "        layers.Dense(512, activation=\"relu\"),\n",
        "        layers.Dense(10, activation=\"softmax\")\n",
        "    ])\n",
        "    model.compile(optimizer=\"rmsprop\",\n",
        "                  loss=\"sparse_categorical_crossentropy\",\n",
        "                  metrics=[\"accuracy\"])\n",
        "    return model\n",
        "\n",
        "model = get_model()\n",
        "history_noise = model.fit(\n",
        "    train_images_with_noise_channels, train_labels,\n",
        "    epochs=10,\n",
        "    batch_size=128,\n",
        "    validation_split=0.2)\n",
        "\n",
        "model = get_model()\n",
        "history_zeros = model.fit(\n",
        "    train_images_with_zeros_channels, train_labels,\n",
        "    epochs=10,\n",
        "    batch_size=128,\n",
        "    validation_split=0.2)"
      ],
      "metadata": {
        "colab": {
          "base_uri": "https://localhost:8080/"
        },
        "id": "7VqJO6H0Sm3D",
        "outputId": "c2bcdd40-d3e7-4176-f9b0-94a24f44be53"
      },
      "execution_count": null,
      "outputs": [
        {
          "output_type": "stream",
          "name": "stdout",
          "text": [
            "Epoch 1/10\n",
            "375/375 [==============================] - 7s 4ms/step - loss: 0.6186 - accuracy: 0.8125 - val_loss: 0.2794 - val_accuracy: 0.9212\n",
            "Epoch 2/10\n",
            "375/375 [==============================] - 1s 3ms/step - loss: 0.2531 - accuracy: 0.9219 - val_loss: 0.2475 - val_accuracy: 0.9213\n",
            "Epoch 3/10\n",
            "375/375 [==============================] - 1s 4ms/step - loss: 0.1638 - accuracy: 0.9482 - val_loss: 0.1615 - val_accuracy: 0.9507\n",
            "Epoch 4/10\n",
            "375/375 [==============================] - 1s 3ms/step - loss: 0.1162 - accuracy: 0.9637 - val_loss: 0.1289 - val_accuracy: 0.9612\n",
            "Epoch 5/10\n",
            "375/375 [==============================] - 1s 3ms/step - loss: 0.0855 - accuracy: 0.9733 - val_loss: 0.1374 - val_accuracy: 0.9614\n",
            "Epoch 6/10\n",
            "375/375 [==============================] - 1s 3ms/step - loss: 0.0628 - accuracy: 0.9794 - val_loss: 0.1193 - val_accuracy: 0.9647\n",
            "Epoch 7/10\n",
            "375/375 [==============================] - 1s 3ms/step - loss: 0.0464 - accuracy: 0.9852 - val_loss: 0.1502 - val_accuracy: 0.9616\n",
            "Epoch 8/10\n",
            "375/375 [==============================] - 1s 3ms/step - loss: 0.0346 - accuracy: 0.9888 - val_loss: 0.1282 - val_accuracy: 0.9682\n",
            "Epoch 9/10\n",
            "375/375 [==============================] - 1s 4ms/step - loss: 0.0262 - accuracy: 0.9915 - val_loss: 0.1260 - val_accuracy: 0.9705\n",
            "Epoch 10/10\n",
            "375/375 [==============================] - 1s 3ms/step - loss: 0.0201 - accuracy: 0.9932 - val_loss: 0.1348 - val_accuracy: 0.9668\n",
            "Epoch 1/10\n",
            "375/375 [==============================] - 2s 4ms/step - loss: 0.2905 - accuracy: 0.9156 - val_loss: 0.1575 - val_accuracy: 0.9535\n",
            "Epoch 2/10\n",
            "375/375 [==============================] - 1s 4ms/step - loss: 0.1204 - accuracy: 0.9647 - val_loss: 0.1077 - val_accuracy: 0.9678\n",
            "Epoch 3/10\n",
            "375/375 [==============================] - 1s 4ms/step - loss: 0.0788 - accuracy: 0.9772 - val_loss: 0.0932 - val_accuracy: 0.9718\n",
            "Epoch 4/10\n",
            "375/375 [==============================] - 2s 5ms/step - loss: 0.0574 - accuracy: 0.9826 - val_loss: 0.0880 - val_accuracy: 0.9754\n",
            "Epoch 5/10\n",
            "375/375 [==============================] - 2s 5ms/step - loss: 0.0426 - accuracy: 0.9878 - val_loss: 0.0811 - val_accuracy: 0.9772\n",
            "Epoch 6/10\n",
            "375/375 [==============================] - 2s 6ms/step - loss: 0.0321 - accuracy: 0.9899 - val_loss: 0.0839 - val_accuracy: 0.9763\n",
            "Epoch 7/10\n",
            "375/375 [==============================] - 3s 7ms/step - loss: 0.0245 - accuracy: 0.9929 - val_loss: 0.0804 - val_accuracy: 0.9778\n",
            "Epoch 8/10\n",
            "375/375 [==============================] - 2s 5ms/step - loss: 0.0178 - accuracy: 0.9951 - val_loss: 0.0869 - val_accuracy: 0.9781\n",
            "Epoch 9/10\n",
            "375/375 [==============================] - 2s 4ms/step - loss: 0.0138 - accuracy: 0.9960 - val_loss: 0.0868 - val_accuracy: 0.9805\n",
            "Epoch 10/10\n",
            "375/375 [==============================] - 1s 4ms/step - loss: 0.0111 - accuracy: 0.9967 - val_loss: 0.0870 - val_accuracy: 0.9792\n"
          ]
        }
      ]
    },
    {
      "cell_type": "code",
      "source": [
        "import matplotlib.pyplot as plt\n",
        "val_acc_noise = history_noise.history[\"val_accuracy\"]\n",
        "val_acc_zeros = history_zeros.history[\"val_accuracy\"]\n",
        "epochs = range(1, 11)\n",
        "plt.plot(epochs, val_acc_noise, \"b-\",\n",
        "         label=\"Validation accuracy with noise channels\")\n",
        "plt.plot(epochs, val_acc_zeros, \"b--\",\n",
        "         label=\"Validation accuracy with zeros channels\")\n",
        "plt.title(\"Effect of noise channels on validation accuracy\")\n",
        "plt.xlabel(\"Epochs\")\n",
        "plt.ylabel(\"Accuracy\")\n",
        "plt.legend()"
      ],
      "metadata": {
        "colab": {
          "base_uri": "https://localhost:8080/",
          "height": 312
        },
        "id": "w2n6GL76TZM7",
        "outputId": "4044fe01-60a7-4df2-f5b5-4a3ca2e0ea4a"
      },
      "execution_count": null,
      "outputs": [
        {
          "output_type": "execute_result",
          "data": {
            "text/plain": [
              "<matplotlib.legend.Legend at 0x7fb35034c190>"
            ]
          },
          "metadata": {},
          "execution_count": 3
        },
        {
          "output_type": "display_data",
          "data": {
            "text/plain": [
              "<Figure size 432x288 with 1 Axes>"
            ],
            "image/png": "[encoded data removed]"
          },
          "metadata": {
            "needs_background": "light"
          }
        }
      ]
    },
    {
      "cell_type": "code",
      "source": [
        "(train_images, train_labels), _ = mnist.load_data()\n",
        "train_images = train_images.reshape((60000, 28 * 28))\n",
        "train_images = train_images.astype(\"float32\") / 255\n",
        "\n",
        "random_train_labels = train_labels[:]\n",
        "np.random.shuffle(random_train_labels)\n",
        "\n",
        "model = keras.Sequential([\n",
        "    layers.Dense(512, activation=\"relu\"),\n",
        "    layers.Dense(10, activation=\"softmax\")\n",
        "])\n",
        "model.compile(optimizer=\"rmsprop\",\n",
        "              loss=\"sparse_categorical_crossentropy\",\n",
        "              metrics=[\"accuracy\"])\n",
        "model.fit(train_images, random_train_labels,\n",
        "          epochs=100,\n",
        "          batch_size=128,\n",
        "          validation_split=0.2)"
      ],
      "metadata": {
        "colab": {
          "base_uri": "https://localhost:8080/"
        },
        "id": "3eLVy3M_Tdp3",
        "outputId": "23bfec69-4f3a-4506-cc58-c1a29e7b1ae0"
      },
      "execution_count": null,
      "outputs": [
        {
          "output_type": "stream",
          "name": "stdout",
          "text": [
            "Epoch 1/100\n",
            "375/375 [==============================] - 2s 4ms/step - loss: 2.3181 - accuracy: 0.1030 - val_loss: 2.3060 - val_accuracy: 0.1056\n",
            "Epoch 2/100\n",
            "375/375 [==============================] - 1s 3ms/step - loss: 2.3004 - accuracy: 0.1149 - val_loss: 2.3103 - val_accuracy: 0.1043\n",
            "Epoch 3/100\n",
            "375/375 [==============================] - 1s 3ms/step - loss: 2.2900 - accuracy: 0.1322 - val_loss: 2.3208 - val_accuracy: 0.1065\n",
            "Epoch 4/100\n",
            "375/375 [==============================] - 1s 3ms/step - loss: 2.2773 - accuracy: 0.1422 - val_loss: 2.3243 - val_accuracy: 0.1071\n",
            "Epoch 5/100\n",
            "375/375 [==============================] - 1s 3ms/step - loss: 2.2586 - accuracy: 0.1540 - val_loss: 2.3365 - val_accuracy: 0.1055\n",
            "Epoch 6/100\n",
            "375/375 [==============================] - 1s 3ms/step - loss: 2.2379 - accuracy: 0.1677 - val_loss: 2.3485 - val_accuracy: 0.1065\n",
            "Epoch 7/100\n",
            "375/375 [==============================] - 1s 3ms/step - loss: 2.2146 - accuracy: 0.1813 - val_loss: 2.3584 - val_accuracy: 0.1071\n",
            "Epoch 8/100\n",
            "375/375 [==============================] - 1s 3ms/step - loss: 2.1872 - accuracy: 0.1992 - val_loss: 2.3739 - val_accuracy: 0.1100\n",
            "Epoch 9/100\n",
            "375/375 [==============================] - 1s 3ms/step - loss: 2.1597 - accuracy: 0.2130 - val_loss: 2.3951 - val_accuracy: 0.1039\n",
            "Epoch 10/100\n",
            "375/375 [==============================] - 1s 3ms/step - loss: 2.1282 - accuracy: 0.2261 - val_loss: 2.4177 - val_accuracy: 0.1046\n",
            "Epoch 11/100\n",
            "375/375 [==============================] - 1s 3ms/step - loss: 2.0961 - accuracy: 0.2457 - val_loss: 2.4417 - val_accuracy: 0.1010\n",
            "Epoch 12/100\n",
            "375/375 [==============================] - 1s 3ms/step - loss: 2.0647 - accuracy: 0.2587 - val_loss: 2.4774 - val_accuracy: 0.1072\n",
            "Epoch 13/100\n",
            "375/375 [==============================] - 1s 3ms/step - loss: 2.0309 - accuracy: 0.2747 - val_loss: 2.4995 - val_accuracy: 0.1067\n",
            "Epoch 14/100\n",
            "375/375 [==============================] - 1s 3ms/step - loss: 1.9958 - accuracy: 0.2880 - val_loss: 2.5276 - val_accuracy: 0.1050\n",
            "Epoch 15/100\n",
            "375/375 [==============================] - 1s 3ms/step - loss: 1.9631 - accuracy: 0.3039 - val_loss: 2.5467 - val_accuracy: 0.1065\n",
            "Epoch 16/100\n",
            "375/375 [==============================] - 1s 3ms/step - loss: 1.9283 - accuracy: 0.3184 - val_loss: 2.5871 - val_accuracy: 0.1037\n",
            "Epoch 17/100\n",
            "375/375 [==============================] - 1s 3ms/step - loss: 1.8954 - accuracy: 0.3321 - val_loss: 2.6506 - val_accuracy: 0.1028\n",
            "Epoch 18/100\n",
            "375/375 [==============================] - 1s 3ms/step - loss: 1.8608 - accuracy: 0.3482 - val_loss: 2.6442 - val_accuracy: 0.1045\n",
            "Epoch 19/100\n",
            "375/375 [==============================] - 1s 3ms/step - loss: 1.8284 - accuracy: 0.3612 - val_loss: 2.6790 - val_accuracy: 0.1052\n",
            "Epoch 20/100\n",
            "375/375 [==============================] - 1s 3ms/step - loss: 1.7954 - accuracy: 0.3722 - val_loss: 2.7112 - val_accuracy: 0.1021\n",
            "Epoch 21/100\n",
            "375/375 [==============================] - 1s 3ms/step - loss: 1.7615 - accuracy: 0.3851 - val_loss: 2.7422 - val_accuracy: 0.1042\n",
            "Epoch 22/100\n",
            "375/375 [==============================] - 1s 3ms/step - loss: 1.7317 - accuracy: 0.3975 - val_loss: 2.7974 - val_accuracy: 0.1014\n",
            "Epoch 23/100\n",
            "375/375 [==============================] - 1s 3ms/step - loss: 1.7021 - accuracy: 0.4077 - val_loss: 2.8360 - val_accuracy: 0.1026\n",
            "Epoch 24/100\n",
            "375/375 [==============================] - 1s 3ms/step - loss: 1.6719 - accuracy: 0.4192 - val_loss: 2.8760 - val_accuracy: 0.1030\n",
            "Epoch 25/100\n",
            "375/375 [==============================] - 1s 3ms/step - loss: 1.6406 - accuracy: 0.4332 - val_loss: 2.9044 - val_accuracy: 0.1021\n",
            "Epoch 26/100\n",
            "375/375 [==============================] - 1s 3ms/step - loss: 1.6127 - accuracy: 0.4426 - val_loss: 2.9537 - val_accuracy: 0.1063\n",
            "Epoch 27/100\n",
            "375/375 [==============================] - 1s 3ms/step - loss: 1.5841 - accuracy: 0.4534 - val_loss: 2.9977 - val_accuracy: 0.1008\n",
            "Epoch 28/100\n",
            "375/375 [==============================] - 1s 4ms/step - loss: 1.5579 - accuracy: 0.4626 - val_loss: 3.0509 - val_accuracy: 0.1024\n",
            "Epoch 29/100\n",
            "375/375 [==============================] - 1s 3ms/step - loss: 1.5314 - accuracy: 0.4736 - val_loss: 3.0801 - val_accuracy: 0.1037\n",
            "Epoch 30/100\n",
            "375/375 [==============================] - 1s 3ms/step - loss: 1.5048 - accuracy: 0.4818 - val_loss: 3.1277 - val_accuracy: 0.0995\n",
            "Epoch 31/100\n",
            "375/375 [==============================] - 1s 3ms/step - loss: 1.4778 - accuracy: 0.4947 - val_loss: 3.1745 - val_accuracy: 0.1017\n",
            "Epoch 32/100\n",
            "375/375 [==============================] - 1s 3ms/step - loss: 1.4538 - accuracy: 0.5008 - val_loss: 3.2127 - val_accuracy: 0.1032\n",
            "Epoch 33/100\n",
            "375/375 [==============================] - 1s 3ms/step - loss: 1.4302 - accuracy: 0.5092 - val_loss: 3.2606 - val_accuracy: 0.1017\n",
            "Epoch 34/100\n",
            "375/375 [==============================] - 1s 3ms/step - loss: 1.4060 - accuracy: 0.5171 - val_loss: 3.3200 - val_accuracy: 0.1041\n",
            "Epoch 35/100\n",
            "375/375 [==============================] - 1s 3ms/step - loss: 1.3825 - accuracy: 0.5285 - val_loss: 3.3485 - val_accuracy: 0.1074\n",
            "Epoch 36/100\n",
            "375/375 [==============================] - 1s 3ms/step - loss: 1.3615 - accuracy: 0.5360 - val_loss: 3.3844 - val_accuracy: 0.1001\n",
            "Epoch 37/100\n",
            "375/375 [==============================] - 1s 3ms/step - loss: 1.3376 - accuracy: 0.5454 - val_loss: 3.4589 - val_accuracy: 0.1020\n",
            "Epoch 38/100\n",
            "375/375 [==============================] - 1s 3ms/step - loss: 1.3142 - accuracy: 0.5527 - val_loss: 3.4965 - val_accuracy: 0.1013\n",
            "Epoch 39/100\n",
            "375/375 [==============================] - 1s 3ms/step - loss: 1.2956 - accuracy: 0.5608 - val_loss: 3.5388 - val_accuracy: 0.1013\n",
            "Epoch 40/100\n",
            "375/375 [==============================] - 1s 3ms/step - loss: 1.2741 - accuracy: 0.5669 - val_loss: 3.5815 - val_accuracy: 0.1015\n",
            "Epoch 41/100\n",
            "375/375 [==============================] - 1s 3ms/step - loss: 1.2522 - accuracy: 0.5760 - val_loss: 3.6330 - val_accuracy: 0.0983\n",
            "Epoch 42/100\n",
            "375/375 [==============================] - 1s 3ms/step - loss: 1.2344 - accuracy: 0.5836 - val_loss: 3.6915 - val_accuracy: 0.0988\n",
            "Epoch 43/100\n",
            "375/375 [==============================] - 1s 3ms/step - loss: 1.2131 - accuracy: 0.5880 - val_loss: 3.7617 - val_accuracy: 0.1010\n",
            "Epoch 44/100\n",
            "375/375 [==============================] - 1s 3ms/step - loss: 1.1949 - accuracy: 0.5981 - val_loss: 3.8278 - val_accuracy: 0.0978\n",
            "Epoch 45/100\n",
            "375/375 [==============================] - 1s 3ms/step - loss: 1.1763 - accuracy: 0.6021 - val_loss: 3.8604 - val_accuracy: 0.0988\n",
            "Epoch 46/100\n",
            "375/375 [==============================] - 1s 3ms/step - loss: 1.1565 - accuracy: 0.6090 - val_loss: 3.8801 - val_accuracy: 0.1030\n",
            "Epoch 47/100\n",
            "375/375 [==============================] - 1s 3ms/step - loss: 1.1395 - accuracy: 0.6186 - val_loss: 3.9502 - val_accuracy: 0.1030\n",
            "Epoch 48/100\n",
            "375/375 [==============================] - 1s 3ms/step - loss: 1.1216 - accuracy: 0.6221 - val_loss: 4.0106 - val_accuracy: 0.0993\n",
            "Epoch 49/100\n",
            "375/375 [==============================] - 1s 3ms/step - loss: 1.1031 - accuracy: 0.6287 - val_loss: 4.0726 - val_accuracy: 0.1023\n",
            "Epoch 50/100\n",
            "375/375 [==============================] - 1s 3ms/step - loss: 1.0878 - accuracy: 0.6349 - val_loss: 4.1361 - val_accuracy: 0.0985\n",
            "Epoch 51/100\n",
            "375/375 [==============================] - 1s 4ms/step - loss: 1.0727 - accuracy: 0.6411 - val_loss: 4.1578 - val_accuracy: 0.1007\n",
            "Epoch 52/100\n",
            "375/375 [==============================] - 1s 4ms/step - loss: 1.0547 - accuracy: 0.6469 - val_loss: 4.2192 - val_accuracy: 0.1001\n",
            "Epoch 53/100\n",
            "375/375 [==============================] - 1s 3ms/step - loss: 1.0385 - accuracy: 0.6521 - val_loss: 4.2802 - val_accuracy: 0.1028\n",
            "Epoch 54/100\n",
            "375/375 [==============================] - 1s 3ms/step - loss: 1.0232 - accuracy: 0.6579 - val_loss: 4.2872 - val_accuracy: 0.1009\n",
            "Epoch 55/100\n",
            "375/375 [==============================] - 1s 3ms/step - loss: 1.0079 - accuracy: 0.6606 - val_loss: 4.3684 - val_accuracy: 0.1009\n",
            "Epoch 56/100\n",
            "375/375 [==============================] - 1s 3ms/step - loss: 0.9938 - accuracy: 0.6672 - val_loss: 4.4670 - val_accuracy: 0.1015\n",
            "Epoch 57/100\n",
            "375/375 [==============================] - 1s 3ms/step - loss: 0.9806 - accuracy: 0.6714 - val_loss: 4.5003 - val_accuracy: 0.0967\n",
            "Epoch 58/100\n",
            "375/375 [==============================] - 1s 3ms/step - loss: 0.9638 - accuracy: 0.6779 - val_loss: 4.5924 - val_accuracy: 0.0962\n",
            "Epoch 59/100\n",
            "375/375 [==============================] - 1s 3ms/step - loss: 0.9499 - accuracy: 0.6817 - val_loss: 4.6152 - val_accuracy: 0.0985\n",
            "Epoch 60/100\n",
            "375/375 [==============================] - 1s 3ms/step - loss: 0.9375 - accuracy: 0.6877 - val_loss: 4.6589 - val_accuracy: 0.1001\n",
            "Epoch 61/100\n",
            "375/375 [==============================] - 1s 3ms/step - loss: 0.9221 - accuracy: 0.6927 - val_loss: 4.7581 - val_accuracy: 0.0986\n",
            "Epoch 62/100\n",
            "375/375 [==============================] - 1s 3ms/step - loss: 0.9091 - accuracy: 0.6954 - val_loss: 4.7926 - val_accuracy: 0.0952\n",
            "Epoch 63/100\n",
            "375/375 [==============================] - 1s 3ms/step - loss: 0.8949 - accuracy: 0.7036 - val_loss: 4.8097 - val_accuracy: 0.1008\n",
            "Epoch 64/100\n",
            "375/375 [==============================] - 1s 3ms/step - loss: 0.8810 - accuracy: 0.7078 - val_loss: 4.9132 - val_accuracy: 0.0969\n",
            "Epoch 65/100\n",
            "375/375 [==============================] - 1s 3ms/step - loss: 0.8675 - accuracy: 0.7122 - val_loss: 4.9483 - val_accuracy: 0.0978\n",
            "Epoch 66/100\n",
            "375/375 [==============================] - 1s 3ms/step - loss: 0.8571 - accuracy: 0.7148 - val_loss: 4.9944 - val_accuracy: 0.1002\n",
            "Epoch 67/100\n",
            "375/375 [==============================] - 1s 3ms/step - loss: 0.8445 - accuracy: 0.7199 - val_loss: 5.0959 - val_accuracy: 0.0987\n",
            "Epoch 68/100\n",
            "375/375 [==============================] - 1s 3ms/step - loss: 0.8341 - accuracy: 0.7248 - val_loss: 5.1544 - val_accuracy: 0.0966\n",
            "Epoch 69/100\n",
            "375/375 [==============================] - 1s 3ms/step - loss: 0.8193 - accuracy: 0.7307 - val_loss: 5.2224 - val_accuracy: 0.0951\n",
            "Epoch 70/100\n",
            "375/375 [==============================] - 1s 3ms/step - loss: 0.8080 - accuracy: 0.7335 - val_loss: 5.2726 - val_accuracy: 0.1000\n",
            "Epoch 71/100\n",
            "375/375 [==============================] - 1s 3ms/step - loss: 0.7972 - accuracy: 0.7377 - val_loss: 5.3254 - val_accuracy: 0.0962\n",
            "Epoch 72/100\n",
            "375/375 [==============================] - 1s 3ms/step - loss: 0.7867 - accuracy: 0.7416 - val_loss: 5.4126 - val_accuracy: 0.0951\n",
            "Epoch 73/100\n",
            "375/375 [==============================] - 1s 3ms/step - loss: 0.7751 - accuracy: 0.7434 - val_loss: 5.4543 - val_accuracy: 0.0983\n",
            "Epoch 74/100\n",
            "375/375 [==============================] - 1s 3ms/step - loss: 0.7620 - accuracy: 0.7492 - val_loss: 5.4909 - val_accuracy: 0.0974\n",
            "Epoch 75/100\n",
            "375/375 [==============================] - 1s 3ms/step - loss: 0.7512 - accuracy: 0.7529 - val_loss: 5.6002 - val_accuracy: 0.1008\n",
            "Epoch 76/100\n",
            "375/375 [==============================] - 1s 3ms/step - loss: 0.7421 - accuracy: 0.7562 - val_loss: 5.6181 - val_accuracy: 0.0959\n",
            "Epoch 77/100\n",
            "375/375 [==============================] - 1s 3ms/step - loss: 0.7300 - accuracy: 0.7614 - val_loss: 5.7098 - val_accuracy: 0.0984\n",
            "Epoch 78/100\n",
            "375/375 [==============================] - 1s 3ms/step - loss: 0.7199 - accuracy: 0.7634 - val_loss: 5.7546 - val_accuracy: 0.0998\n",
            "Epoch 79/100\n",
            "375/375 [==============================] - 1s 3ms/step - loss: 0.7087 - accuracy: 0.7678 - val_loss: 5.8468 - val_accuracy: 0.0961\n",
            "Epoch 80/100\n",
            "375/375 [==============================] - 1s 3ms/step - loss: 0.7008 - accuracy: 0.7700 - val_loss: 5.8812 - val_accuracy: 0.0967\n",
            "Epoch 81/100\n",
            "375/375 [==============================] - 1s 3ms/step - loss: 0.6912 - accuracy: 0.7730 - val_loss: 5.9535 - val_accuracy: 0.0950\n",
            "Epoch 82/100\n",
            "375/375 [==============================] - 1s 3ms/step - loss: 0.6787 - accuracy: 0.7784 - val_loss: 6.0071 - val_accuracy: 0.0968\n",
            "Epoch 83/100\n",
            "375/375 [==============================] - 1s 3ms/step - loss: 0.6723 - accuracy: 0.7806 - val_loss: 6.1160 - val_accuracy: 0.0983\n",
            "Epoch 84/100\n",
            "375/375 [==============================] - 1s 3ms/step - loss: 0.6609 - accuracy: 0.7836 - val_loss: 6.1745 - val_accuracy: 0.0954\n",
            "Epoch 85/100\n",
            "375/375 [==============================] - 1s 3ms/step - loss: 0.6508 - accuracy: 0.7871 - val_loss: 6.2212 - val_accuracy: 0.0996\n",
            "Epoch 86/100\n",
            "375/375 [==============================] - 1s 3ms/step - loss: 0.6424 - accuracy: 0.7907 - val_loss: 6.2799 - val_accuracy: 0.0976\n",
            "Epoch 87/100\n",
            "375/375 [==============================] - 1s 3ms/step - loss: 0.6333 - accuracy: 0.7939 - val_loss: 6.3320 - val_accuracy: 0.0967\n",
            "Epoch 88/100\n",
            "375/375 [==============================] - 1s 3ms/step - loss: 0.6248 - accuracy: 0.7957 - val_loss: 6.3989 - val_accuracy: 0.0993\n",
            "Epoch 89/100\n",
            "375/375 [==============================] - 1s 3ms/step - loss: 0.6161 - accuracy: 0.8008 - val_loss: 6.4907 - val_accuracy: 0.0988\n",
            "Epoch 90/100\n",
            "375/375 [==============================] - 1s 3ms/step - loss: 0.6077 - accuracy: 0.8027 - val_loss: 6.5574 - val_accuracy: 0.0996\n",
            "Epoch 91/100\n",
            "375/375 [==============================] - 1s 3ms/step - loss: 0.6006 - accuracy: 0.8030 - val_loss: 6.6050 - val_accuracy: 0.0967\n",
            "Epoch 92/100\n",
            "375/375 [==============================] - 1s 3ms/step - loss: 0.5911 - accuracy: 0.8086 - val_loss: 6.6794 - val_accuracy: 0.1000\n",
            "Epoch 93/100\n",
            "375/375 [==============================] - 1s 3ms/step - loss: 0.5831 - accuracy: 0.8099 - val_loss: 6.7614 - val_accuracy: 0.1013\n",
            "Epoch 94/100\n",
            "375/375 [==============================] - 1s 3ms/step - loss: 0.5769 - accuracy: 0.8128 - val_loss: 6.7670 - val_accuracy: 0.0985\n",
            "Epoch 95/100\n",
            "375/375 [==============================] - 1s 3ms/step - loss: 0.5664 - accuracy: 0.8174 - val_loss: 6.8715 - val_accuracy: 0.1007\n",
            "Epoch 96/100\n",
            "375/375 [==============================] - 1s 3ms/step - loss: 0.5595 - accuracy: 0.8180 - val_loss: 6.9360 - val_accuracy: 0.0981\n",
            "Epoch 97/100\n",
            "375/375 [==============================] - 1s 3ms/step - loss: 0.5509 - accuracy: 0.8226 - val_loss: 6.9772 - val_accuracy: 0.0993\n",
            "Epoch 98/100\n",
            "375/375 [==============================] - 1s 3ms/step - loss: 0.5444 - accuracy: 0.8255 - val_loss: 7.1075 - val_accuracy: 0.1007\n",
            "Epoch 99/100\n",
            "375/375 [==============================] - 1s 3ms/step - loss: 0.5341 - accuracy: 0.8278 - val_loss: 7.1143 - val_accuracy: 0.0992\n",
            "Epoch 100/100\n",
            "375/375 [==============================] - 1s 3ms/step - loss: 0.5282 - accuracy: 0.8292 - val_loss: 7.1805 - val_accuracy: 0.1013\n"
          ]
        },
        {
          "output_type": "execute_result",
          "data": {
            "text/plain": [
              "<keras.callbacks.History at 0x7fb33c678cd0>"
            ]
          },
          "metadata": {},
          "execution_count": 4
        }
      ]
    },
    {
      "cell_type": "code",
      "source": [
        "(train_images, train_labels), _ = mnist.load_data()\n",
        "train_images = train_images.reshape((60000, 28 * 28))\n",
        "train_images = train_images.astype(\"float32\") / 255\n",
        "\n",
        "model = keras.Sequential([\n",
        "    layers.Dense(512, activation=\"relu\"),\n",
        "    layers.Dense(10, activation=\"softmax\")\n",
        "])\n",
        "model.compile(optimizer=keras.optimizers.RMSprop(1.),\n",
        "              loss=\"sparse_categorical_crossentropy\",\n",
        "              metrics=[\"accuracy\"])\n",
        "model.fit(train_images, train_labels,\n",
        "          epochs=10,\n",
        "          batch_size=128,\n",
        "          validation_split=0.2)"
      ],
      "metadata": {
        "colab": {
          "base_uri": "https://localhost:8080/"
        },
        "id": "96YoGab5Tf08",
        "outputId": "a9fe443a-74ac-4b99-fbb8-cadf8f7c9cc7"
      },
      "execution_count": null,
      "outputs": [
        {
          "output_type": "stream",
          "name": "stdout",
          "text": [
            "Epoch 1/10\n",
            "375/375 [==============================] - 2s 4ms/step - loss: 878.4081 - accuracy: 0.3818 - val_loss: 2.9069 - val_accuracy: 0.2878\n",
            "Epoch 2/10\n",
            "375/375 [==============================] - 1s 3ms/step - loss: 4.8270 - accuracy: 0.2375 - val_loss: 2.3944 - val_accuracy: 0.2804\n",
            "Epoch 3/10\n",
            "375/375 [==============================] - 1s 3ms/step - loss: 3.2403 - accuracy: 0.2411 - val_loss: 2.1375 - val_accuracy: 0.2355\n",
            "Epoch 4/10\n",
            "375/375 [==============================] - 1s 3ms/step - loss: 2.8731 - accuracy: 0.2528 - val_loss: 4.7571 - val_accuracy: 0.3052\n",
            "Epoch 5/10\n",
            "375/375 [==============================] - 1s 3ms/step - loss: 2.7141 - accuracy: 0.2663 - val_loss: 2.5731 - val_accuracy: 0.2228\n",
            "Epoch 6/10\n",
            "375/375 [==============================] - 1s 3ms/step - loss: 2.4688 - accuracy: 0.2418 - val_loss: 2.6076 - val_accuracy: 0.2490\n",
            "Epoch 7/10\n",
            "375/375 [==============================] - 1s 3ms/step - loss: 2.8484 - accuracy: 0.2568 - val_loss: 2.2096 - val_accuracy: 0.2104\n",
            "Epoch 8/10\n",
            "375/375 [==============================] - 1s 3ms/step - loss: 2.6489 - accuracy: 0.2591 - val_loss: 2.7363 - val_accuracy: 0.2804\n",
            "Epoch 9/10\n",
            "375/375 [==============================] - 1s 3ms/step - loss: 2.4215 - accuracy: 0.2479 - val_loss: 2.3499 - val_accuracy: 0.2673\n",
            "Epoch 10/10\n",
            "375/375 [==============================] - 1s 3ms/step - loss: 2.5190 - accuracy: 0.2592 - val_loss: 2.1158 - val_accuracy: 0.2416\n"
          ]
        },
        {
          "output_type": "execute_result",
          "data": {
            "text/plain": [
              "<keras.callbacks.History at 0x7fb33c03b8d0>"
            ]
          },
          "metadata": {},
          "execution_count": 5
        }
      ]
    },
    {
      "cell_type": "code",
      "source": [
        "model = keras.Sequential([\n",
        "    layers.Dense(512, activation=\"relu\"),\n",
        "    layers.Dense(10, activation=\"softmax\")\n",
        "])\n",
        "model.compile(optimizer=keras.optimizers.RMSprop(1e-2),\n",
        "              loss=\"sparse_categorical_crossentropy\",\n",
        "              metrics=[\"accuracy\"])\n",
        "model.fit(train_images, train_labels,\n",
        "          epochs=10,\n",
        "          batch_size=128,\n",
        "          validation_split=0.2)"
      ],
      "metadata": {
        "colab": {
          "base_uri": "https://localhost:8080/"
        },
        "id": "P2F95429Tjbb",
        "outputId": "77399a30-cb7e-486e-c602-67d2ba5d5bb5"
      },
      "execution_count": null,
      "outputs": [
        {
          "output_type": "stream",
          "name": "stdout",
          "text": [
            "Epoch 1/10\n",
            "375/375 [==============================] - 2s 4ms/step - loss: 0.3980 - accuracy: 0.9107 - val_loss: 0.1516 - val_accuracy: 0.9579\n",
            "Epoch 2/10\n",
            "375/375 [==============================] - 1s 3ms/step - loss: 0.1402 - accuracy: 0.9638 - val_loss: 0.1842 - val_accuracy: 0.9577\n",
            "Epoch 3/10\n",
            "375/375 [==============================] - 1s 3ms/step - loss: 0.1213 - accuracy: 0.9722 - val_loss: 0.1587 - val_accuracy: 0.9688\n",
            "Epoch 4/10\n",
            "375/375 [==============================] - 1s 3ms/step - loss: 0.0943 - accuracy: 0.9788 - val_loss: 0.1974 - val_accuracy: 0.9641\n",
            "Epoch 5/10\n",
            "375/375 [==============================] - 1s 3ms/step - loss: 0.0876 - accuracy: 0.9818 - val_loss: 0.2005 - val_accuracy: 0.9709\n",
            "Epoch 6/10\n",
            "375/375 [==============================] - 1s 3ms/step - loss: 0.0795 - accuracy: 0.9845 - val_loss: 0.2413 - val_accuracy: 0.9690\n",
            "Epoch 7/10\n",
            "375/375 [==============================] - 2s 4ms/step - loss: 0.0707 - accuracy: 0.9866 - val_loss: 0.2119 - val_accuracy: 0.9732\n",
            "Epoch 8/10\n",
            "375/375 [==============================] - 1s 4ms/step - loss: 0.0673 - accuracy: 0.9878 - val_loss: 0.2582 - val_accuracy: 0.9747\n",
            "Epoch 9/10\n",
            "375/375 [==============================] - 1s 3ms/step - loss: 0.0597 - accuracy: 0.9894 - val_loss: 0.2755 - val_accuracy: 0.9722\n",
            "Epoch 10/10\n",
            "375/375 [==============================] - 1s 3ms/step - loss: 0.0568 - accuracy: 0.9901 - val_loss: 0.3061 - val_accuracy: 0.9754\n"
          ]
        },
        {
          "output_type": "execute_result",
          "data": {
            "text/plain": [
              "<keras.callbacks.History at 0x7fb33c673950>"
            ]
          },
          "metadata": {},
          "execution_count": 6
        }
      ]
    },
    {
      "cell_type": "code",
      "source": [
        "model = keras.Sequential([layers.Dense(10, activation=\"softmax\")])\n",
        "model.compile(optimizer=\"rmsprop\",\n",
        "              loss=\"sparse_categorical_crossentropy\",\n",
        "              metrics=[\"accuracy\"])\n",
        "history_small_model = model.fit(\n",
        "    train_images, train_labels,\n",
        "    epochs=20,\n",
        "    batch_size=128,\n",
        "    validation_split=0.2)"
      ],
      "metadata": {
        "colab": {
          "base_uri": "https://localhost:8080/"
        },
        "id": "kikNY4sbTlPo",
        "outputId": "645077c1-f349-410e-bd3f-56238e7f4c20"
      },
      "execution_count": null,
      "outputs": [
        {
          "output_type": "stream",
          "name": "stdout",
          "text": [
            "Epoch 1/20\n",
            "375/375 [==============================] - 1s 3ms/step - loss: 0.6661 - accuracy: 0.8366 - val_loss: 0.3597 - val_accuracy: 0.9038\n",
            "Epoch 2/20\n",
            "375/375 [==============================] - 1s 3ms/step - loss: 0.3516 - accuracy: 0.9040 - val_loss: 0.3088 - val_accuracy: 0.9152\n",
            "Epoch 3/20\n",
            "375/375 [==============================] - 1s 3ms/step - loss: 0.3153 - accuracy: 0.9131 - val_loss: 0.2904 - val_accuracy: 0.9192\n",
            "Epoch 4/20\n",
            "375/375 [==============================] - 1s 3ms/step - loss: 0.2996 - accuracy: 0.9166 - val_loss: 0.2819 - val_accuracy: 0.9209\n",
            "Epoch 5/20\n",
            "375/375 [==============================] - 1s 3ms/step - loss: 0.2895 - accuracy: 0.9192 - val_loss: 0.2752 - val_accuracy: 0.9234\n",
            "Epoch 6/20\n",
            "375/375 [==============================] - 1s 3ms/step - loss: 0.2833 - accuracy: 0.9210 - val_loss: 0.2723 - val_accuracy: 0.9249\n",
            "Epoch 7/20\n",
            "375/375 [==============================] - 1s 3ms/step - loss: 0.2783 - accuracy: 0.9222 - val_loss: 0.2687 - val_accuracy: 0.9269\n",
            "Epoch 8/20\n",
            "375/375 [==============================] - 1s 3ms/step - loss: 0.2745 - accuracy: 0.9235 - val_loss: 0.2674 - val_accuracy: 0.9278\n",
            "Epoch 9/20\n",
            "375/375 [==============================] - 1s 3ms/step - loss: 0.2715 - accuracy: 0.9246 - val_loss: 0.2656 - val_accuracy: 0.9274\n",
            "Epoch 10/20\n",
            "375/375 [==============================] - 1s 3ms/step - loss: 0.2687 - accuracy: 0.9252 - val_loss: 0.2641 - val_accuracy: 0.9282\n",
            "Epoch 11/20\n",
            "375/375 [==============================] - 1s 3ms/step - loss: 0.2668 - accuracy: 0.9265 - val_loss: 0.2634 - val_accuracy: 0.9283\n",
            "Epoch 12/20\n",
            "375/375 [==============================] - 1s 3ms/step - loss: 0.2652 - accuracy: 0.9268 - val_loss: 0.2621 - val_accuracy: 0.9293\n",
            "Epoch 13/20\n",
            "375/375 [==============================] - 1s 3ms/step - loss: 0.2633 - accuracy: 0.9272 - val_loss: 0.2625 - val_accuracy: 0.9287\n",
            "Epoch 14/20\n",
            "375/375 [==============================] - 1s 3ms/step - loss: 0.2616 - accuracy: 0.9277 - val_loss: 0.2640 - val_accuracy: 0.9288\n",
            "Epoch 15/20\n",
            "375/375 [==============================] - 1s 3ms/step - loss: 0.2607 - accuracy: 0.9285 - val_loss: 0.2621 - val_accuracy: 0.9298\n",
            "Epoch 16/20\n",
            "375/375 [==============================] - 1s 3ms/step - loss: 0.2595 - accuracy: 0.9287 - val_loss: 0.2623 - val_accuracy: 0.9293\n",
            "Epoch 17/20\n",
            "375/375 [==============================] - 1s 3ms/step - loss: 0.2586 - accuracy: 0.9291 - val_loss: 0.2615 - val_accuracy: 0.9307\n",
            "Epoch 18/20\n",
            "375/375 [==============================] - 1s 3ms/step - loss: 0.2572 - accuracy: 0.9292 - val_loss: 0.2615 - val_accuracy: 0.9304\n",
            "Epoch 19/20\n",
            "375/375 [==============================] - 1s 3ms/step - loss: 0.2564 - accuracy: 0.9306 - val_loss: 0.2619 - val_accuracy: 0.9295\n",
            "Epoch 20/20\n",
            "375/375 [==============================] - 1s 3ms/step - loss: 0.2559 - accuracy: 0.9301 - val_loss: 0.2614 - val_accuracy: 0.9310\n"
          ]
        }
      ]
    },
    {
      "cell_type": "code",
      "source": [
        "import matplotlib.pyplot as plt\n",
        "val_loss = history_small_model.history[\"val_loss\"]\n",
        "epochs = range(1, 21)\n",
        "plt.plot(epochs, val_loss, \"b--\",\n",
        "         label=\"Validation loss\")\n",
        "plt.title(\"Effect of insufficient model capacity on validation loss\")\n",
        "plt.xlabel(\"Epochs\")\n",
        "plt.ylabel(\"Loss\")\n",
        "plt.legend()"
      ],
      "metadata": {
        "colab": {
          "base_uri": "https://localhost:8080/",
          "height": 312
        },
        "id": "NMaR7jxXToQL",
        "outputId": "c841ce14-8173-450f-a6ae-f37fa53fe9be"
      },
      "execution_count": null,
      "outputs": [
        {
          "output_type": "execute_result",
          "data": {
            "text/plain": [
              "<matplotlib.legend.Legend at 0x7fb31807ff10>"
            ]
          },
          "metadata": {},
          "execution_count": 8
        },
        {
          "output_type": "display_data",
          "data": {
            "text/plain": [
              "<Figure size 432x288 with 1 Axes>"
            ],
            "image/png": "[encoded data removed]"
          },
          "metadata": {
            "needs_background": "light"
          }
        }
      ]
    },
    {
      "cell_type": "code",
      "source": [
        "model = keras.Sequential([\n",
        "    layers.Dense(96, activation=\"relu\"),\n",
        "    layers.Dense(96, activation=\"relu\"),\n",
        "    layers.Dense(10, activation=\"softmax\"),\n",
        "])\n",
        "model.compile(optimizer=\"rmsprop\",\n",
        "              loss=\"sparse_categorical_crossentropy\",\n",
        "              metrics=[\"accuracy\"])\n",
        "history_large_model = model.fit(\n",
        "    train_images, train_labels,\n",
        "    epochs=20,\n",
        "    batch_size=128,\n",
        "    validation_split=0.2)"
      ],
      "metadata": {
        "colab": {
          "base_uri": "https://localhost:8080/"
        },
        "id": "34yhPkvsTp0U",
        "outputId": "cd0b095e-aaa3-4aa8-e7f1-73a1c92da082"
      },
      "execution_count": null,
      "outputs": [
        {
          "output_type": "stream",
          "name": "stdout",
          "text": [
            "Epoch 1/20\n",
            "375/375 [==============================] - 2s 4ms/step - loss: 0.3502 - accuracy: 0.9001 - val_loss: 0.1749 - val_accuracy: 0.9507\n",
            "Epoch 2/20\n",
            "375/375 [==============================] - 1s 4ms/step - loss: 0.1553 - accuracy: 0.9538 - val_loss: 0.1398 - val_accuracy: 0.9586\n",
            "Epoch 3/20\n",
            "375/375 [==============================] - 1s 3ms/step - loss: 0.1108 - accuracy: 0.9670 - val_loss: 0.1136 - val_accuracy: 0.9657\n",
            "Epoch 4/20\n",
            "375/375 [==============================] - 1s 3ms/step - loss: 0.0857 - accuracy: 0.9736 - val_loss: 0.1065 - val_accuracy: 0.9701\n",
            "Epoch 5/20\n",
            "375/375 [==============================] - 1s 4ms/step - loss: 0.0683 - accuracy: 0.9784 - val_loss: 0.1089 - val_accuracy: 0.9693\n",
            "Epoch 6/20\n",
            "375/375 [==============================] - 1s 3ms/step - loss: 0.0558 - accuracy: 0.9826 - val_loss: 0.1064 - val_accuracy: 0.9690\n",
            "Epoch 7/20\n",
            "375/375 [==============================] - 1s 3ms/step - loss: 0.0483 - accuracy: 0.9850 - val_loss: 0.0946 - val_accuracy: 0.9736\n",
            "Epoch 8/20\n",
            "375/375 [==============================] - 1s 3ms/step - loss: 0.0403 - accuracy: 0.9878 - val_loss: 0.0998 - val_accuracy: 0.9735\n",
            "Epoch 9/20\n",
            "375/375 [==============================] - 1s 3ms/step - loss: 0.0341 - accuracy: 0.9894 - val_loss: 0.1086 - val_accuracy: 0.9741\n",
            "Epoch 10/20\n",
            "375/375 [==============================] - 1s 4ms/step - loss: 0.0287 - accuracy: 0.9907 - val_loss: 0.1097 - val_accuracy: 0.9709\n",
            "Epoch 11/20\n",
            "375/375 [==============================] - 1s 3ms/step - loss: 0.0249 - accuracy: 0.9921 - val_loss: 0.1047 - val_accuracy: 0.9775\n",
            "Epoch 12/20\n",
            "375/375 [==============================] - 1s 4ms/step - loss: 0.0207 - accuracy: 0.9940 - val_loss: 0.1078 - val_accuracy: 0.9750\n",
            "Epoch 13/20\n",
            "375/375 [==============================] - 1s 4ms/step - loss: 0.0173 - accuracy: 0.9943 - val_loss: 0.1154 - val_accuracy: 0.9743\n",
            "Epoch 14/20\n",
            "375/375 [==============================] - 1s 3ms/step - loss: 0.0150 - accuracy: 0.9952 - val_loss: 0.1184 - val_accuracy: 0.9765\n",
            "Epoch 15/20\n",
            "375/375 [==============================] - 1s 3ms/step - loss: 0.0118 - accuracy: 0.9962 - val_loss: 0.1254 - val_accuracy: 0.9766\n",
            "Epoch 16/20\n",
            "375/375 [==============================] - 1s 4ms/step - loss: 0.0113 - accuracy: 0.9965 - val_loss: 0.1278 - val_accuracy: 0.9762\n",
            "Epoch 17/20\n",
            "375/375 [==============================] - 1s 4ms/step - loss: 0.0088 - accuracy: 0.9973 - val_loss: 0.1431 - val_accuracy: 0.9749\n",
            "Epoch 18/20\n",
            "375/375 [==============================] - 1s 3ms/step - loss: 0.0083 - accuracy: 0.9974 - val_loss: 0.1482 - val_accuracy: 0.9735\n",
            "Epoch 19/20\n",
            "375/375 [==============================] - 1s 3ms/step - loss: 0.0072 - accuracy: 0.9977 - val_loss: 0.1414 - val_accuracy: 0.9758\n",
            "Epoch 20/20\n",
            "375/375 [==============================] - 1s 3ms/step - loss: 0.0068 - accuracy: 0.9979 - val_loss: 0.1458 - val_accuracy: 0.9757\n"
          ]
        }
      ]
    },
    {
      "cell_type": "code",
      "source": [
        "from tensorflow.keras.datasets import imdb\n",
        "(train_data, train_labels), _ = imdb.load_data(num_words=10000)\n",
        "\n",
        "def vectorize_sequences(sequences, dimension=10000):\n",
        "    results = np.zeros((len(sequences), dimension))\n",
        "    for i, sequence in enumerate(sequences):\n",
        "        results[i, sequence] = 1.\n",
        "    return results\n",
        "train_data = vectorize_sequences(train_data)\n",
        "\n",
        "model = keras.Sequential([\n",
        "    layers.Dense(16, activation=\"relu\"),\n",
        "    layers.Dense(16, activation=\"relu\"),\n",
        "    layers.Dense(1, activation=\"sigmoid\")\n",
        "])\n",
        "model.compile(optimizer=\"rmsprop\",\n",
        "              loss=\"binary_crossentropy\",\n",
        "              metrics=[\"accuracy\"])\n",
        "history_original = model.fit(train_data, train_labels,\n",
        "                             epochs=20, batch_size=512, validation_split=0.4)"
      ],
      "metadata": {
        "colab": {
          "base_uri": "https://localhost:8080/"
        },
        "id": "_xsoxSZqTtYm",
        "outputId": "20f7d991-332a-4187-852b-c7e1214509e5"
      },
      "execution_count": null,
      "outputs": [
        {
          "output_type": "stream",
          "name": "stdout",
          "text": [
            "Downloading data from https://storage.googleapis.com/tensorflow/tf-keras-datasets/imdb.npz\n",
            "17465344/17464789 [==============================] - 0s 0us/step\n",
            "17473536/17464789 [==============================] - 0s 0us/step\n",
            "Epoch 1/20\n",
            "30/30 [==============================] - 2s 39ms/step - loss: 0.5190 - accuracy: 0.7855 - val_loss: 0.3817 - val_accuracy: 0.8736\n",
            "Epoch 2/20\n",
            "30/30 [==============================] - 1s 20ms/step - loss: 0.3071 - accuracy: 0.9032 - val_loss: 0.3088 - val_accuracy: 0.8866\n",
            "Epoch 3/20\n",
            "30/30 [==============================] - 1s 19ms/step - loss: 0.2235 - accuracy: 0.9289 - val_loss: 0.2991 - val_accuracy: 0.8793\n",
            "Epoch 4/20\n",
            "30/30 [==============================] - 1s 20ms/step - loss: 0.1768 - accuracy: 0.9420 - val_loss: 0.2897 - val_accuracy: 0.8827\n",
            "Epoch 5/20\n",
            "30/30 [==============================] - 1s 19ms/step - loss: 0.1424 - accuracy: 0.9545 - val_loss: 0.3023 - val_accuracy: 0.8791\n",
            "Epoch 6/20\n",
            "30/30 [==============================] - 1s 19ms/step - loss: 0.1160 - accuracy: 0.9645 - val_loss: 0.2964 - val_accuracy: 0.8865\n",
            "Epoch 7/20\n",
            "30/30 [==============================] - 1s 20ms/step - loss: 0.0962 - accuracy: 0.9717 - val_loss: 0.3580 - val_accuracy: 0.8710\n",
            "Epoch 8/20\n",
            "30/30 [==============================] - 1s 20ms/step - loss: 0.0784 - accuracy: 0.9782 - val_loss: 0.3478 - val_accuracy: 0.8786\n",
            "Epoch 9/20\n",
            "30/30 [==============================] - 1s 20ms/step - loss: 0.0673 - accuracy: 0.9815 - val_loss: 0.3527 - val_accuracy: 0.8784\n",
            "Epoch 10/20\n",
            "30/30 [==============================] - 1s 20ms/step - loss: 0.0526 - accuracy: 0.9873 - val_loss: 0.3788 - val_accuracy: 0.8774\n",
            "Epoch 11/20\n",
            "30/30 [==============================] - 1s 20ms/step - loss: 0.0447 - accuracy: 0.9896 - val_loss: 0.4088 - val_accuracy: 0.8754\n",
            "Epoch 12/20\n",
            "30/30 [==============================] - 1s 20ms/step - loss: 0.0362 - accuracy: 0.9921 - val_loss: 0.4700 - val_accuracy: 0.8689\n",
            "Epoch 13/20\n",
            "30/30 [==============================] - 1s 20ms/step - loss: 0.0302 - accuracy: 0.9936 - val_loss: 0.4668 - val_accuracy: 0.8728\n",
            "Epoch 14/20\n",
            "30/30 [==============================] - 1s 20ms/step - loss: 0.0250 - accuracy: 0.9953 - val_loss: 0.4986 - val_accuracy: 0.8729\n",
            "Epoch 15/20\n",
            "30/30 [==============================] - 1s 20ms/step - loss: 0.0177 - accuracy: 0.9971 - val_loss: 0.5297 - val_accuracy: 0.8715\n",
            "Epoch 16/20\n",
            "30/30 [==============================] - 1s 20ms/step - loss: 0.0133 - accuracy: 0.9985 - val_loss: 0.5675 - val_accuracy: 0.8697\n",
            "Epoch 17/20\n",
            "30/30 [==============================] - 1s 20ms/step - loss: 0.0125 - accuracy: 0.9981 - val_loss: 0.5956 - val_accuracy: 0.8672\n",
            "Epoch 18/20\n",
            "30/30 [==============================] - 1s 19ms/step - loss: 0.0078 - accuracy: 0.9993 - val_loss: 0.7093 - val_accuracy: 0.8574\n",
            "Epoch 19/20\n",
            "30/30 [==============================] - 1s 20ms/step - loss: 0.0057 - accuracy: 0.9994 - val_loss: 0.6759 - val_accuracy: 0.8660\n",
            "Epoch 20/20\n",
            "30/30 [==============================] - 1s 19ms/step - loss: 0.0080 - accuracy: 0.9982 - val_loss: 0.7079 - val_accuracy: 0.8661\n"
          ]
        }
      ]
    },
    {
      "cell_type": "code",
      "source": [
        "model = keras.Sequential([\n",
        "    layers.Dense(4, activation=\"relu\"),\n",
        "    layers.Dense(4, activation=\"relu\"),\n",
        "    layers.Dense(1, activation=\"sigmoid\")\n",
        "])\n",
        "model.compile(optimizer=\"rmsprop\",\n",
        "              loss=\"binary_crossentropy\",\n",
        "              metrics=[\"accuracy\"])\n",
        "history_smaller_model = model.fit(\n",
        "    train_data, train_labels,\n",
        "    epochs=20, batch_size=512, validation_split=0.4)"
      ],
      "metadata": {
        "colab": {
          "base_uri": "https://localhost:8080/"
        },
        "id": "xgMeFpNlT1NK",
        "outputId": "a22d84ce-b3df-4857-b261-dde2c948bae7"
      },
      "execution_count": null,
      "outputs": [
        {
          "output_type": "stream",
          "name": "stdout",
          "text": [
            "Epoch 1/20\n",
            "30/30 [==============================] - 2s 34ms/step - loss: 0.6569 - accuracy: 0.6548 - val_loss: 0.6195 - val_accuracy: 0.6475\n",
            "Epoch 2/20\n",
            "30/30 [==============================] - 1s 20ms/step - loss: 0.5799 - accuracy: 0.7813 - val_loss: 0.5512 - val_accuracy: 0.8145\n",
            "Epoch 3/20\n",
            "30/30 [==============================] - 1s 20ms/step - loss: 0.5081 - accuracy: 0.8448 - val_loss: 0.4882 - val_accuracy: 0.8235\n",
            "Epoch 4/20\n",
            "30/30 [==============================] - 1s 19ms/step - loss: 0.4320 - accuracy: 0.8844 - val_loss: 0.4215 - val_accuracy: 0.8759\n",
            "Epoch 5/20\n",
            "30/30 [==============================] - 1s 19ms/step - loss: 0.3594 - accuracy: 0.9141 - val_loss: 0.3698 - val_accuracy: 0.8876\n",
            "Epoch 6/20\n",
            "30/30 [==============================] - 1s 20ms/step - loss: 0.2997 - accuracy: 0.9290 - val_loss: 0.3328 - val_accuracy: 0.8859\n",
            "Epoch 7/20\n",
            "30/30 [==============================] - 1s 19ms/step - loss: 0.2518 - accuracy: 0.9385 - val_loss: 0.3052 - val_accuracy: 0.8916\n",
            "Epoch 8/20\n",
            "30/30 [==============================] - 1s 20ms/step - loss: 0.2147 - accuracy: 0.9444 - val_loss: 0.2874 - val_accuracy: 0.8947\n",
            "Epoch 9/20\n",
            "30/30 [==============================] - 1s 20ms/step - loss: 0.1868 - accuracy: 0.9510 - val_loss: 0.2847 - val_accuracy: 0.8891\n",
            "Epoch 10/20\n",
            "30/30 [==============================] - 1s 20ms/step - loss: 0.1653 - accuracy: 0.9545 - val_loss: 0.2750 - val_accuracy: 0.8959\n",
            "Epoch 11/20\n",
            "30/30 [==============================] - 1s 20ms/step - loss: 0.1480 - accuracy: 0.9598 - val_loss: 0.2794 - val_accuracy: 0.8909\n",
            "Epoch 12/20\n",
            "30/30 [==============================] - 1s 20ms/step - loss: 0.1330 - accuracy: 0.9642 - val_loss: 0.2843 - val_accuracy: 0.8885\n",
            "Epoch 13/20\n",
            "30/30 [==============================] - 1s 20ms/step - loss: 0.1207 - accuracy: 0.9675 - val_loss: 0.2960 - val_accuracy: 0.8865\n",
            "Epoch 14/20\n",
            "30/30 [==============================] - 1s 19ms/step - loss: 0.1099 - accuracy: 0.9714 - val_loss: 0.2901 - val_accuracy: 0.8877\n",
            "Epoch 15/20\n",
            "30/30 [==============================] - 1s 20ms/step - loss: 0.1000 - accuracy: 0.9741 - val_loss: 0.3000 - val_accuracy: 0.8853\n",
            "Epoch 16/20\n",
            "30/30 [==============================] - 1s 20ms/step - loss: 0.0913 - accuracy: 0.9771 - val_loss: 0.3075 - val_accuracy: 0.8863\n",
            "Epoch 17/20\n",
            "30/30 [==============================] - 1s 20ms/step - loss: 0.0838 - accuracy: 0.9797 - val_loss: 0.3168 - val_accuracy: 0.8850\n",
            "Epoch 18/20\n",
            "30/30 [==============================] - 1s 19ms/step - loss: 0.0762 - accuracy: 0.9825 - val_loss: 0.3312 - val_accuracy: 0.8840\n",
            "Epoch 19/20\n",
            "30/30 [==============================] - 1s 20ms/step - loss: 0.0696 - accuracy: 0.9847 - val_loss: 0.3409 - val_accuracy: 0.8821\n",
            "Epoch 20/20\n",
            "30/30 [==============================] - 1s 19ms/step - loss: 0.0636 - accuracy: 0.9873 - val_loss: 0.3545 - val_accuracy: 0.8819\n"
          ]
        }
      ]
    },
    {
      "cell_type": "code",
      "source": [
        "model = keras.Sequential([\n",
        "    layers.Dense(512, activation=\"relu\"),\n",
        "    layers.Dense(512, activation=\"relu\"),\n",
        "    layers.Dense(1, activation=\"sigmoid\")\n",
        "])\n",
        "model.compile(optimizer=\"rmsprop\",\n",
        "              loss=\"binary_crossentropy\",\n",
        "              metrics=[\"accuracy\"])\n",
        "history_larger_model = model.fit(\n",
        "    train_data, train_labels,\n",
        "    epochs=20, batch_size=512, validation_split=0.4)"
      ],
      "metadata": {
        "colab": {
          "base_uri": "https://localhost:8080/"
        },
        "id": "ZclerRNcT4o6",
        "outputId": "1a37a194-dc0e-4769-bed9-29c3196959bf"
      },
      "execution_count": null,
      "outputs": [
        {
          "output_type": "stream",
          "name": "stdout",
          "text": [
            "Epoch 1/20\n",
            "30/30 [==============================] - 2s 39ms/step - loss: 0.5423 - accuracy: 0.7584 - val_loss: 0.3004 - val_accuracy: 0.8847\n",
            "Epoch 2/20\n",
            "30/30 [==============================] - 1s 24ms/step - loss: 0.2495 - accuracy: 0.9025 - val_loss: 0.3216 - val_accuracy: 0.8719\n",
            "Epoch 3/20\n",
            "30/30 [==============================] - 1s 24ms/step - loss: 0.1509 - accuracy: 0.9431 - val_loss: 0.3126 - val_accuracy: 0.8914\n",
            "Epoch 4/20\n",
            "30/30 [==============================] - 1s 23ms/step - loss: 0.0938 - accuracy: 0.9699 - val_loss: 0.3633 - val_accuracy: 0.8914\n",
            "Epoch 5/20\n",
            "30/30 [==============================] - 1s 23ms/step - loss: 0.1140 - accuracy: 0.9793 - val_loss: 0.3451 - val_accuracy: 0.8856\n",
            "Epoch 6/20\n",
            "30/30 [==============================] - 1s 23ms/step - loss: 0.0052 - accuracy: 0.9997 - val_loss: 0.4969 - val_accuracy: 0.8848\n",
            "Epoch 7/20\n",
            "30/30 [==============================] - 1s 23ms/step - loss: 7.4600e-04 - accuracy: 0.9999 - val_loss: 0.5913 - val_accuracy: 0.8890\n",
            "Epoch 8/20\n",
            "30/30 [==============================] - 1s 27ms/step - loss: 9.9306e-05 - accuracy: 1.0000 - val_loss: 0.7124 - val_accuracy: 0.8894\n",
            "Epoch 9/20\n",
            "30/30 [==============================] - 1s 24ms/step - loss: 1.7929e-05 - accuracy: 1.0000 - val_loss: 0.8405 - val_accuracy: 0.8848\n",
            "Epoch 10/20\n",
            "30/30 [==============================] - 1s 27ms/step - loss: 4.2289e-06 - accuracy: 1.0000 - val_loss: 0.9007 - val_accuracy: 0.8884\n",
            "Epoch 11/20\n",
            "30/30 [==============================] - 1s 23ms/step - loss: 1.0863e-06 - accuracy: 1.0000 - val_loss: 0.9856 - val_accuracy: 0.8872\n",
            "Epoch 12/20\n",
            "30/30 [==============================] - 1s 23ms/step - loss: 3.1318e-07 - accuracy: 1.0000 - val_loss: 1.0648 - val_accuracy: 0.8877\n",
            "Epoch 13/20\n",
            "30/30 [==============================] - 1s 23ms/step - loss: 1.1787e-07 - accuracy: 1.0000 - val_loss: 1.1201 - val_accuracy: 0.8883\n",
            "Epoch 14/20\n",
            "30/30 [==============================] - 1s 23ms/step - loss: 5.1705e-08 - accuracy: 1.0000 - val_loss: 1.1695 - val_accuracy: 0.8886\n",
            "Epoch 15/20\n",
            "30/30 [==============================] - 1s 23ms/step - loss: 2.9344e-08 - accuracy: 1.0000 - val_loss: 1.2021 - val_accuracy: 0.8881\n",
            "Epoch 16/20\n",
            "30/30 [==============================] - 1s 23ms/step - loss: 1.9578e-08 - accuracy: 1.0000 - val_loss: 1.2241 - val_accuracy: 0.8877\n",
            "Epoch 17/20\n",
            "30/30 [==============================] - 1s 23ms/step - loss: 1.4642e-08 - accuracy: 1.0000 - val_loss: 1.2404 - val_accuracy: 0.8881\n",
            "Epoch 18/20\n",
            "30/30 [==============================] - 1s 23ms/step - loss: 1.1717e-08 - accuracy: 1.0000 - val_loss: 1.2548 - val_accuracy: 0.8881\n",
            "Epoch 19/20\n",
            "30/30 [==============================] - 1s 23ms/step - loss: 9.7276e-09 - accuracy: 1.0000 - val_loss: 1.2653 - val_accuracy: 0.8876\n",
            "Epoch 20/20\n",
            "30/30 [==============================] - 1s 23ms/step - loss: 8.3863e-09 - accuracy: 1.0000 - val_loss: 1.2744 - val_accuracy: 0.8882\n"
          ]
        }
      ]
    },
    {
      "cell_type": "code",
      "source": [
        "from tensorflow.keras import regularizers\n",
        "model = keras.Sequential([\n",
        "    layers.Dense(16,\n",
        "                 kernel_regularizer=regularizers.l2(0.002),\n",
        "                 activation=\"relu\"),\n",
        "    layers.Dense(16,\n",
        "                 kernel_regularizer=regularizers.l2(0.002),\n",
        "                 activation=\"relu\"),\n",
        "    layers.Dense(1, activation=\"sigmoid\")\n",
        "])\n",
        "model.compile(optimizer=\"rmsprop\",\n",
        "              loss=\"binary_crossentropy\",\n",
        "              metrics=[\"accuracy\"])\n",
        "history_l2_reg = model.fit(\n",
        "    train_data, train_labels,\n",
        "    epochs=20, batch_size=512, validation_split=0.4)"
      ],
      "metadata": {
        "colab": {
          "base_uri": "https://localhost:8080/"
        },
        "id": "_TyZdL32WcA_",
        "outputId": "a3c83b9b-5a13-42f9-9b95-1a4c8ae371fd"
      },
      "execution_count": null,
      "outputs": [
        {
          "output_type": "stream",
          "name": "stdout",
          "text": [
            "Epoch 1/20\n",
            "30/30 [==============================] - 2s 36ms/step - loss: 0.5833 - accuracy: 0.7867 - val_loss: 0.4689 - val_accuracy: 0.8544\n",
            "Epoch 2/20\n",
            "30/30 [==============================] - 1s 20ms/step - loss: 0.3936 - accuracy: 0.8951 - val_loss: 0.3890 - val_accuracy: 0.8861\n",
            "Epoch 3/20\n",
            "30/30 [==============================] - 1s 20ms/step - loss: 0.3314 - accuracy: 0.9161 - val_loss: 0.3869 - val_accuracy: 0.8754\n",
            "Epoch 4/20\n",
            "30/30 [==============================] - 1s 20ms/step - loss: 0.3014 - accuracy: 0.9263 - val_loss: 0.3622 - val_accuracy: 0.8883\n",
            "Epoch 5/20\n",
            "30/30 [==============================] - 1s 20ms/step - loss: 0.2885 - accuracy: 0.9262 - val_loss: 0.3601 - val_accuracy: 0.8894\n",
            "Epoch 6/20\n",
            "30/30 [==============================] - 1s 20ms/step - loss: 0.2694 - accuracy: 0.9378 - val_loss: 0.3647 - val_accuracy: 0.8851\n",
            "Epoch 7/20\n",
            "30/30 [==============================] - 1s 20ms/step - loss: 0.2609 - accuracy: 0.9392 - val_loss: 0.3878 - val_accuracy: 0.8754\n",
            "Epoch 8/20\n",
            "30/30 [==============================] - 1s 21ms/step - loss: 0.2533 - accuracy: 0.9419 - val_loss: 0.3710 - val_accuracy: 0.8837\n",
            "Epoch 9/20\n",
            "30/30 [==============================] - 1s 22ms/step - loss: 0.2490 - accuracy: 0.9442 - val_loss: 0.3835 - val_accuracy: 0.8794\n",
            "Epoch 10/20\n",
            "30/30 [==============================] - 1s 21ms/step - loss: 0.2448 - accuracy: 0.9453 - val_loss: 0.3805 - val_accuracy: 0.8801\n",
            "Epoch 11/20\n",
            "30/30 [==============================] - 1s 20ms/step - loss: 0.2369 - accuracy: 0.9502 - val_loss: 0.3879 - val_accuracy: 0.8784\n",
            "Epoch 12/20\n",
            "30/30 [==============================] - 1s 20ms/step - loss: 0.2337 - accuracy: 0.9472 - val_loss: 0.4005 - val_accuracy: 0.8750\n",
            "Epoch 13/20\n",
            "30/30 [==============================] - 1s 20ms/step - loss: 0.2320 - accuracy: 0.9504 - val_loss: 0.4028 - val_accuracy: 0.8752\n",
            "Epoch 14/20\n",
            "30/30 [==============================] - 1s 20ms/step - loss: 0.2258 - accuracy: 0.9530 - val_loss: 0.4500 - val_accuracy: 0.8602\n",
            "Epoch 15/20\n",
            "30/30 [==============================] - 1s 20ms/step - loss: 0.2267 - accuracy: 0.9511 - val_loss: 0.3970 - val_accuracy: 0.8792\n",
            "Epoch 16/20\n",
            "30/30 [==============================] - 1s 20ms/step - loss: 0.2187 - accuracy: 0.9554 - val_loss: 0.4028 - val_accuracy: 0.8774\n",
            "Epoch 17/20\n",
            "30/30 [==============================] - 1s 20ms/step - loss: 0.2193 - accuracy: 0.9525 - val_loss: 0.4760 - val_accuracy: 0.8548\n",
            "Epoch 18/20\n",
            "30/30 [==============================] - 1s 20ms/step - loss: 0.2113 - accuracy: 0.9571 - val_loss: 0.5044 - val_accuracy: 0.8472\n",
            "Epoch 19/20\n",
            "30/30 [==============================] - 1s 20ms/step - loss: 0.2148 - accuracy: 0.9557 - val_loss: 0.4132 - val_accuracy: 0.8748\n",
            "Epoch 20/20\n",
            "30/30 [==============================] - 1s 19ms/step - loss: 0.2072 - accuracy: 0.9595 - val_loss: 0.4675 - val_accuracy: 0.8622\n"
          ]
        }
      ]
    },
    {
      "cell_type": "code",
      "source": [
        "from tensorflow.keras import regularizers\n",
        "regularizers.l1(0.001)\n",
        "regularizers.l1_l2(l1=0.001, l2=0.001)"
      ],
      "metadata": {
        "colab": {
          "base_uri": "https://localhost:8080/"
        },
        "id": "0BjlH6ByWcDt",
        "outputId": "61ec71a7-b3ad-44d9-b4a3-be2052fe2e14"
      },
      "execution_count": null,
      "outputs": [
        {
          "output_type": "execute_result",
          "data": {
            "text/plain": [
              "<keras.regularizers.L1L2 at 0x7fb30a645710>"
            ]
          },
          "metadata": {},
          "execution_count": 14
        }
      ]
    },
    {
      "cell_type": "code",
      "source": [
        "model = keras.Sequential([\n",
        "    layers.Dense(16, activation=\"relu\"),\n",
        "    layers.Dropout(0.5),\n",
        "    layers.Dense(16, activation=\"relu\"),\n",
        "    layers.Dropout(0.5),\n",
        "    layers.Dense(1, activation=\"sigmoid\")\n",
        "])\n",
        "model.compile(optimizer=\"rmsprop\",\n",
        "              loss=\"binary_crossentropy\",\n",
        "              metrics=[\"accuracy\"])\n",
        "history_dropout = model.fit(\n",
        "    train_data, train_labels,\n",
        "    epochs=20, batch_size=512, validation_split=0.4)"
      ],
      "metadata": {
        "colab": {
          "base_uri": "https://localhost:8080/"
        },
        "id": "6j4ZmGpIWcGS",
        "outputId": "0e3533f7-004c-483a-fa7c-510b4fa9d4f5"
      },
      "execution_count": null,
      "outputs": [
        {
          "output_type": "stream",
          "name": "stdout",
          "text": [
            "Epoch 1/20\n",
            "30/30 [==============================] - 2s 36ms/step - loss: 0.6251 - accuracy: 0.6499 - val_loss: 0.5165 - val_accuracy: 0.8354\n",
            "Epoch 2/20\n",
            "30/30 [==============================] - 1s 23ms/step - loss: 0.5029 - accuracy: 0.7769 - val_loss: 0.4153 - val_accuracy: 0.8695\n",
            "Epoch 3/20\n",
            "30/30 [==============================] - 1s 20ms/step - loss: 0.4281 - accuracy: 0.8301 - val_loss: 0.3534 - val_accuracy: 0.8799\n",
            "Epoch 4/20\n",
            "30/30 [==============================] - 1s 21ms/step - loss: 0.3732 - accuracy: 0.8634 - val_loss: 0.3147 - val_accuracy: 0.8852\n",
            "Epoch 5/20\n",
            "30/30 [==============================] - 1s 20ms/step - loss: 0.3191 - accuracy: 0.8883 - val_loss: 0.3120 - val_accuracy: 0.8809\n",
            "Epoch 6/20\n",
            "30/30 [==============================] - 1s 20ms/step - loss: 0.2876 - accuracy: 0.9024 - val_loss: 0.2967 - val_accuracy: 0.8884\n",
            "Epoch 7/20\n",
            "30/30 [==============================] - 1s 20ms/step - loss: 0.2503 - accuracy: 0.9210 - val_loss: 0.2970 - val_accuracy: 0.8893\n",
            "Epoch 8/20\n",
            "30/30 [==============================] - 1s 20ms/step - loss: 0.2259 - accuracy: 0.9273 - val_loss: 0.3055 - val_accuracy: 0.8740\n",
            "Epoch 9/20\n",
            "30/30 [==============================] - 1s 20ms/step - loss: 0.1978 - accuracy: 0.9371 - val_loss: 0.3234 - val_accuracy: 0.8868\n",
            "Epoch 10/20\n",
            "30/30 [==============================] - 1s 20ms/step - loss: 0.1785 - accuracy: 0.9468 - val_loss: 0.3373 - val_accuracy: 0.8893\n",
            "Epoch 11/20\n",
            "30/30 [==============================] - 1s 21ms/step - loss: 0.1602 - accuracy: 0.9513 - val_loss: 0.3515 - val_accuracy: 0.8733\n",
            "Epoch 12/20\n",
            "30/30 [==============================] - 1s 20ms/step - loss: 0.1463 - accuracy: 0.9553 - val_loss: 0.3597 - val_accuracy: 0.8864\n",
            "Epoch 13/20\n",
            "30/30 [==============================] - 1s 20ms/step - loss: 0.1318 - accuracy: 0.9589 - val_loss: 0.3808 - val_accuracy: 0.8822\n",
            "Epoch 14/20\n",
            "30/30 [==============================] - 1s 20ms/step - loss: 0.1215 - accuracy: 0.9630 - val_loss: 0.4275 - val_accuracy: 0.8840\n",
            "Epoch 15/20\n",
            "30/30 [==============================] - 1s 20ms/step - loss: 0.1059 - accuracy: 0.9663 - val_loss: 0.4449 - val_accuracy: 0.8823\n",
            "Epoch 16/20\n",
            "30/30 [==============================] - 1s 20ms/step - loss: 0.1052 - accuracy: 0.9677 - val_loss: 0.4605 - val_accuracy: 0.8812\n",
            "Epoch 17/20\n",
            "30/30 [==============================] - 1s 20ms/step - loss: 0.0970 - accuracy: 0.9721 - val_loss: 0.5188 - val_accuracy: 0.8832\n",
            "Epoch 18/20\n",
            "30/30 [==============================] - 1s 20ms/step - loss: 0.0908 - accuracy: 0.9727 - val_loss: 0.5650 - val_accuracy: 0.8807\n",
            "Epoch 19/20\n",
            "30/30 [==============================] - 1s 20ms/step - loss: 0.0842 - accuracy: 0.9739 - val_loss: 0.5716 - val_accuracy: 0.8812\n",
            "Epoch 20/20\n",
            "30/30 [==============================] - 1s 20ms/step - loss: 0.0791 - accuracy: 0.9761 - val_loss: 0.5825 - val_accuracy: 0.8801\n"
          ]
        }
      ]
    },
    {
      "cell_type": "code",
      "source": [],
      "metadata": {
        "id": "oj-cKmfdWcJZ"
      },
      "execution_count": null,
      "outputs": []
    },
    {
      "cell_type": "code",
      "source": [],
      "metadata": {
        "id": "1vTQNXZvWcMr"
      },
      "execution_count": null,
      "outputs": []
    }
  ]
}